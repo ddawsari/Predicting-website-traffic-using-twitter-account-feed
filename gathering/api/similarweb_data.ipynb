{
 "cells": [
  {
   "cell_type": "markdown",
   "metadata": {},
   "source": [
    "### Extract Traffic Data from Similarweb "
   ]
  },
  {
   "cell_type": "code",
   "execution_count": 1,
   "metadata": {},
   "outputs": [],
   "source": [
    "from lxml import etree\n",
    "import json\n",
    "import pandas as pd\n",
    "import urllib.request\n",
    "import requests\n",
    "import csv\n",
    "import numpy as np"
   ]
  },
  {
   "cell_type": "code",
   "execution_count": 74,
   "metadata": {},
   "outputs": [],
   "source": [
    "# Read data that includes\n",
    "df = pd.read_csv('../../clean-data.csv')"
   ]
  },
  {
   "cell_type": "code",
   "execution_count": 75,
   "metadata": {},
   "outputs": [],
   "source": [
    "# Remove last duplicate\n",
    "df.drop_duplicates(keep='last',subset='homepage_url',inplace=True)"
   ]
  },
  {
   "cell_type": "code",
   "execution_count": 6,
   "metadata": {},
   "outputs": [],
   "source": [
    "# Remove companies with no twitter url\n",
    "df = df[df.twitter_url.notnull()]"
   ]
  },
  {
   "cell_type": "code",
   "execution_count": 44,
   "metadata": {},
   "outputs": [
    {
     "name": "stdout",
     "output_type": "stream",
     "text": [
      "<class 'pandas.core.frame.DataFrame'>\n",
      "Int64Index: 415 entries, 16 to 6113\n",
      "Data columns (total 67 columns):\n",
      "Unnamed: 0                      415 non-null int64\n",
      "log1p_transform                 415 non-null float64\n",
      "hashtags_count                  415 non-null int64\n",
      "likes                           415 non-null int64\n",
      "link_to_tweet                   415 non-null object\n",
      "links                           415 non-null int64\n",
      "mentions_count                  415 non-null int64\n",
      "replies                         415 non-null int64\n",
      "retweets                        415 non-null int64\n",
      "total_tweets                    415 non-null int64\n",
      "word_count                      415 non-null int64\n",
      "date                            415 non-null object\n",
      "reach_per_million               415 non-null float64\n",
      "twitter_user                    415 non-null object\n",
      "website                         415 non-null object\n",
      "links_in_count                  415 non-null int64\n",
      "name                            415 non-null object\n",
      "homepage_domain                 415 non-null object\n",
      "twitter_url                     415 non-null object\n",
      "location_country_code           415 non-null object\n",
      "short_description               415 non-null object\n",
      "username                        415 non-null object\n",
      "categories                      415 non-null object\n",
      "homepage_url                    415 non-null object\n",
      "followers_count                 415 non-null int64\n",
      "is_weekend                      415 non-null float64\n",
      "Arts & Entertainment            415 non-null int64\n",
      "Automotive                      415 non-null int64\n",
      "Business                        415 non-null int64\n",
      "Buying/Selling Cars             415 non-null int64\n",
      "Careers                         415 non-null int64\n",
      "Cell Phones                     415 non-null int64\n",
      "Data Centers                    415 non-null int64\n",
      "Education                       415 non-null int64\n",
      "Family & Parenting              415 non-null int64\n",
      "Food & Drink                    415 non-null int64\n",
      "Health & Fitness                415 non-null int64\n",
      "Hobbies & Interests             415 non-null int64\n",
      "Home & Garden                   415 non-null int64\n",
      "Job Search                      415 non-null int64\n",
      "Law, Government, & Politics     415 non-null int64\n",
      "News / Weather / Information    415 non-null int64\n",
      "Non-Standard Content            415 non-null int64\n",
      "Personal Finance                415 non-null int64\n",
      "Real Estate                     415 non-null int64\n",
      "Religion & Spirituality         415 non-null int64\n",
      "Science                         415 non-null int64\n",
      "Shopping                        415 non-null int64\n",
      "Society                         415 non-null int64\n",
      "Sports                          415 non-null int64\n",
      "Style & Fashion                 415 non-null int64\n",
      "Technology & Computing          415 non-null int64\n",
      "Travel                          415 non-null int64\n",
      "AE                              415 non-null int64\n",
      "BH                              415 non-null int64\n",
      "DZ                              415 non-null int64\n",
      "EG                              415 non-null int64\n",
      "IQ                              415 non-null int64\n",
      "JO                              415 non-null int64\n",
      "KW                              415 non-null int64\n",
      "LB                              415 non-null int64\n",
      "MA                              415 non-null int64\n",
      "OM                              415 non-null int64\n",
      "QA                              415 non-null int64\n",
      "SA                              415 non-null int64\n",
      "SO                              415 non-null int64\n",
      "TN                              415 non-null int64\n",
      "dtypes: float64(3), int64(52), object(12)\n",
      "memory usage: 240.5+ KB\n"
     ]
    }
   ],
   "source": [
    "df.info()"
   ]
  },
  {
   "cell_type": "code",
   "execution_count": 8,
   "metadata": {},
   "outputs": [],
   "source": [
    "# Create username column for merging later on\n",
    "df['username'] = df['twitter_url'].apply(lambda x: x.split('/')[-1])"
   ]
  },
  {
   "cell_type": "code",
   "execution_count": 9,
   "metadata": {},
   "outputs": [],
   "source": [
    "# Make it lowercase\n",
    "df['username'] = df['username'].str.lower()"
   ]
  },
  {
   "cell_type": "code",
   "execution_count": null,
   "metadata": {},
   "outputs": [],
   "source": [
    "api_token = '****************'\n",
    "api_url_base = 'https://api.similarweb.com/v1/'\n",
    "list_linkin = []\n",
    "for company in df.iloc[:, 17]:\n",
    "        print('parsing '+company)\n",
    "        twitter_url_var = df[df['homepage_domain'] == company]['username'].item()\n",
    "        API_URL = \"https://api.similarweb.com/v1/website/{site}/\" \\\n",
    "          \"total-traffic-and-engagement/visits?api_key={api_key}\" \\\n",
    "          \"&start_date={start_date}\" \\\n",
    "          \"&end_date={end_date}\" \\\n",
    "          \"&main_domain_only=false\" \\\n",
    "          \"&granularity={granularity}\".format(\n",
    "            site= company,\n",
    "            api_key=api_token,\n",
    "            start_date=\"2018-08\",\n",
    "            end_date=\"2018-08\",\n",
    "            granularity=\"Daily\"\n",
    "        )\n",
    "        response = requests.get(API_URL)\n",
    "        data_results = json.loads(response.text)\n",
    "        for item in data_results[\"visits\"]:\n",
    "            data_variable = {'website': company ,'date' : item['date'], 'views' : item['visits']\n",
    "                             , 'twitter_user': twitter_url_var}\n",
    "            list_linkin.append(data_variable)\n"
   ]
  },
  {
   "cell_type": "code",
   "execution_count": 91,
   "metadata": {},
   "outputs": [],
   "source": [
    "df_2 = pd.DataFrame(list_linkin)"
   ]
  },
  {
   "cell_type": "code",
   "execution_count": 92,
   "metadata": {},
   "outputs": [],
   "source": [
    "df_2.to_csv('../../data/similarweb.csv')"
   ]
  }
 ],
 "metadata": {
  "kernelspec": {
   "display_name": "Python 3",
   "language": "python",
   "name": "python3"
  },
  "language_info": {
   "codemirror_mode": {
    "name": "ipython",
    "version": 3
   },
   "file_extension": ".py",
   "mimetype": "text/x-python",
   "name": "python",
   "nbconvert_exporter": "python",
   "pygments_lexer": "ipython3",
   "version": "3.6.5"
  }
 },
 "nbformat": 4,
 "nbformat_minor": 2
}
